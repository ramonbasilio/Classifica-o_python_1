{
 "cells": [
  {
   "cell_type": "markdown",
   "metadata": {},
   "source": [
    "### CLASSIFICAÇÃO DE USUÁRIOS QUE ACESSAM SITE DE CURSOS\n",
    "\n",
    "Foram utilizados 3 algoritmos: MultinomialNB (Naive Bayes), AbaBooost e Base (sempre prediz o valor 1)"
   ]
  },
  {
   "cell_type": "code",
   "execution_count": 1,
   "metadata": {},
   "outputs": [],
   "source": [
    "# IMPORTAÇÃO DAS BIBLIOTECAS \n",
    "from sklearn.ensemble import AdaBoostClassifier\n",
    "from sklearn.naive_bayes import MultinomialNB\n",
    "from sklearn.metrics import accuracy_score\n",
    "from collections import Counter\n",
    "import pandas as pd"
   ]
  },
  {
   "cell_type": "code",
   "execution_count": 17,
   "metadata": {},
   "outputs": [
    {
     "data": {
      "text/html": [
       "<div>\n",
       "<style scoped>\n",
       "    .dataframe tbody tr th:only-of-type {\n",
       "        vertical-align: middle;\n",
       "    }\n",
       "\n",
       "    .dataframe tbody tr th {\n",
       "        vertical-align: top;\n",
       "    }\n",
       "\n",
       "    .dataframe thead th {\n",
       "        text-align: right;\n",
       "    }\n",
       "</style>\n",
       "<table border=\"1\" class=\"dataframe\">\n",
       "  <thead>\n",
       "    <tr style=\"text-align: right;\">\n",
       "      <th></th>\n",
       "      <th>home</th>\n",
       "      <th>busca</th>\n",
       "      <th>logado</th>\n",
       "      <th>comprou</th>\n",
       "    </tr>\n",
       "  </thead>\n",
       "  <tbody>\n",
       "    <tr>\n",
       "      <th>0</th>\n",
       "      <td>0</td>\n",
       "      <td>algoritmos</td>\n",
       "      <td>1</td>\n",
       "      <td>1</td>\n",
       "    </tr>\n",
       "    <tr>\n",
       "      <th>1</th>\n",
       "      <td>0</td>\n",
       "      <td>java</td>\n",
       "      <td>0</td>\n",
       "      <td>1</td>\n",
       "    </tr>\n",
       "    <tr>\n",
       "      <th>2</th>\n",
       "      <td>1</td>\n",
       "      <td>algoritmos</td>\n",
       "      <td>0</td>\n",
       "      <td>1</td>\n",
       "    </tr>\n",
       "    <tr>\n",
       "      <th>3</th>\n",
       "      <td>1</td>\n",
       "      <td>ruby</td>\n",
       "      <td>1</td>\n",
       "      <td>0</td>\n",
       "    </tr>\n",
       "    <tr>\n",
       "      <th>4</th>\n",
       "      <td>1</td>\n",
       "      <td>ruby</td>\n",
       "      <td>0</td>\n",
       "      <td>1</td>\n",
       "    </tr>\n",
       "  </tbody>\n",
       "</table>\n",
       "</div>"
      ],
      "text/plain": [
       "   home       busca  logado  comprou\n",
       "0     0  algoritmos       1        1\n",
       "1     0        java       0        1\n",
       "2     1  algoritmos       0        1\n",
       "3     1        ruby       1        0\n",
       "4     1        ruby       0        1"
      ]
     },
     "execution_count": 17,
     "metadata": {},
     "output_type": "execute_result"
    }
   ],
   "source": [
    "# LEITURA E VISUALIZAÇÃO DO DATASET EM FORMATO CSV\n",
    "dados = pd.read_csv('busca.csv')\n",
    "dados.head()"
   ]
  },
  {
   "cell_type": "code",
   "execution_count": 18,
   "metadata": {},
   "outputs": [],
   "source": [
    "# DIVISÃO DOS DATASET EM DOIS DATAFRAMES, ONDE, X SÃO AS FEATURES E O Y É A SAÍDA QUE INDICA SE O USUÁRIOU COMPROU OU NÃO\n",
    "X_df = dados[['home','busca','logado']]\n",
    "Y_df = dados['comprou']\n",
    "\n",
    "# DEVIDO A FEATURE \"BUSCA\" SER DO TIPO CATEGÓRICA É NECESSÁRIO TRANSFORMAR-LÁ EM BINÁRIA, SIMILIAR AS DEMAIS FEATURES. \n",
    "# PARA ISSO SERÁ UTILIZADO O MÉTODO GET_DUMMIES() PARA CRIAR ESSAS 3 NOVAS COLUNAS.\n",
    "Xdummies_df = pd.get_dummies(X_df)\n",
    "Ydummies_df = Y_df\n",
    "\n",
    "# TRANSFORMAÇÃO DE DATAFRAME EM ARRAY\n",
    "X = Xdummies_df.values\n",
    "Y = Ydummies_df.values"
   ]
  },
  {
   "cell_type": "code",
   "execution_count": 19,
   "metadata": {},
   "outputs": [],
   "source": [
    "# SEPARAÇÃO DOS DADOS DE TESTE, TREINO E VALIDIÇÃO\n",
    "\n",
    "# 80% para treino e 10% para teste e 10% para validação\n",
    "porcentagem_treino = 0.8\n",
    "porcentagem_teste = 0.1\n",
    "\n",
    "# 1000 elementos\n",
    "total_elementos = len(X)\n",
    "\n",
    "# 800 de treino, 100 teste e 100 de validação\n",
    "elementos_treino = int(porcentagem_treino * total_elementos)\n",
    "elementos_teste = int(porcentagem_teste * total_elementos)\n",
    "elementos_validacao = total_elementos - elementos_treino - elementos_teste\n",
    "\n",
    "# 900 > auxiliar\n",
    "fim_do_teste = elementos_teste + elementos_treino \n",
    "\n",
    "# 0 até o 799 TREINO\n",
    "treino_dados = X[0:elementos_treino]\n",
    "treino_marcacoes = Y[0:elementos_treino]\n",
    "\n",
    "# 800 até 899 TESTE\n",
    "teste_dados = X[elementos_treino:fim_do_teste]\n",
    "teste_marcacoes = Y[elementos_treino:fim_do_teste]\n",
    "\n",
    "# 900 até 999 VALIDAÇÃO\n",
    "validacao_dados = X[fim_do_teste:]\n",
    "validacao_marcacoes = Y[fim_do_teste:]"
   ]
  },
  {
   "cell_type": "code",
   "execution_count": 20,
   "metadata": {},
   "outputs": [],
   "source": [
    "# DECLARAÇÃO DA FUNÇÃO QUE RECEBE O ALGORITMO E DADOS PARA TREINAR E PREDIZER\n",
    "\n",
    "def fit_and_predict(nome, modelo, treino_dados, treino_marcacoes, teste_dados, teste_marcacoes):\n",
    "    modelo.fit(treino_dados, treino_marcacoes) #treino do algoritmo\n",
    "    resultado = modelo.predict(teste_dados) #resultado com as predições (array com 0 e 1)\n",
    "    taxa_de_acerto = round((accuracy_score(resultado, teste_marcacoes)*100),3) #função para calcular a taxa de acerto\n",
    "    \n",
    "    #ESSA PARTE FOI COMENTADA POIS É UMA OUTRA MANUAL DE CALCULAR A TAXA DE ACERTO DO ALGORITMO\n",
    "    ''' \n",
    "    acertos = (resultado == teste_marcacoes) #acertos, isto é, array com trues e falses em comparação com o resultado do\n",
    "                                             #predict e do teste marcações       \n",
    "    total_de_acertos = sum(acertos) #total de trues (acertos do algoritmo)\n",
    "    total_de_elementos = len(teste_dados) #total de elementos que é igual a 100\n",
    "    taxa_de_acertos = 100.0 * (total_de_acertos / total_de_elementos) #porcentagem de acertos do algoritmo\n",
    "    '''\n",
    "    \n",
    "    mensagem = 'Taxa de acerto do algoritmo {0}: {1} %'.format(nome, taxa_de_acerto) \n",
    "    print(mensagem) #mensagem de saida com o nome do algoritmo e a taxa de acerto\n",
    "    return taxa_de_acerto #retorno da função com a taxa de acertos"
   ]
  },
  {
   "cell_type": "code",
   "execution_count": 21,
   "metadata": {},
   "outputs": [
    {
     "name": "stdout",
     "output_type": "stream",
     "text": [
      "Taxa de acerto do algoritmo MultinomialNB: 82.0 %\n",
      "Taxa de acerto do algoritmo AdaBoost: 84.0 %\n",
      "Algoritmo vencedor: Modelo AdaBoost\n",
      "Taxa de acertos do algoritmo Modelo AdaBoost com dados de validacao: 85.0 %\n",
      "\n",
      "Taxa de acerto com algoritmo base: 82.0 %\n",
      "Total de teste: 100\n"
     ]
    }
   ],
   "source": [
    "# CRIAÇÃO DO OBJETO (INSTÂNCIA DAS CLASSES) REFERENTES A CADA ALGORITO DO SKLEANG. \n",
    "# CHAMADO DA FUNÇÃO 'FIT_AND_PREDICT' DIRECIONADA AO MULTINOMIALNB E ADABOOST. \n",
    "\n",
    "modelo_MultinomialNB = MultinomialNB()\n",
    "resultado_MultinomialNB = fit_and_predict('MultinomialNB',\n",
    "                                          modelo_MultinomialNB,\n",
    "                                          treino_dados, \n",
    "                                          treino_marcacoes, \n",
    "                                          teste_dados, \n",
    "                                          teste_marcacoes)\n",
    "modelo_AdaBoost = AdaBoostClassifier()\n",
    "resultado_AdaBoost = fit_and_predict('AdaBoost',\n",
    "                                     modelo_AdaBoost,\n",
    "                                     treino_dados, \n",
    "                                     treino_marcacoes, \n",
    "                                     teste_dados, \n",
    "                                     teste_marcacoes)\n",
    "\n",
    "# CONDICIONAL PARA VERIFICAR QUAL ALGORITMO OBJTEVE O MAIOR ACERTO\n",
    "if resultado_MultinomialNB > resultado_AdaBoost:\n",
    "    vencedor = modelo_MultinomialNB\n",
    "    nome_do_vencendor = 'Modelo MultinomialNB'\n",
    "    \n",
    "else:\n",
    "        vencedor = modelo_AdaBoost\n",
    "        nome_do_vencendor = 'Modelo AdaBoost'\n",
    "        \n",
    "print('Algoritmo vencedor: {}'.format(nome_do_vencendor))\n",
    "\n",
    "# SAIDA COM O O ALGORITMO VENCER E SUA RESPECTIVA TAXA DE ACERTO COM OS DADOS DE VALIDAÇÃO\n",
    "resultado = vencedor.predict(validacao_dados)\n",
    "taxa_de_acerto = accuracy_score(validacao_marcacoes, resultado)\n",
    "mensagem = 'Taxa de acertos do algoritmo {0} com dados de validacao: {1} %\\n'.format(nome_do_vencendor, taxa_de_acerto*100)\n",
    "print(mensagem)\n",
    "\n",
    "# TESTE COM ALGORITMO BASE QUE SEMPRE PREDIZ VALOR 1 PARA QUALQUER FEATURE \n",
    "acertos = max(Counter(validacao_marcacoes).values())\n",
    "total_de_elementos = len(validacao_dados)\n",
    "taxa_de_acerto_base = 100.0 * (acertos / total_de_elementos)\n",
    "print(\"Taxa de acerto com algoritmo base: {} %\".format(taxa_de_acerto_base))\n",
    "total_de_elementos = len(validacao_dados)\n",
    "print(\"Total de teste: %d\" % total_de_elementos)"
   ]
  },
  {
   "cell_type": "markdown",
   "metadata": {},
   "source": [
    "###  CONCLUSÃO\n",
    "\n",
    "Para esse dataset 'busca.csv', o algoritmo MultinomialNB conseguiu acertar 82% dos dados de teste. Já o Adaboost conseguiu acertar 84%, sendo assim o escolhido como vencedor.  \n",
    "Para garantir que o algoritmo não tem nenhum viés, o vencedor será testado com dados de validação que não foram utilizados no treino nem no teste(10% do dados da dataset), resultando em uma taxa de 85% de acerto.  \n",
    "O algoritmo base que sempre chuta 1 para qualquer predição teve uma taxa de acerto igual a 82%.  \n",
    "\n",
    "Vale ressaltar que dependendo da quantidade de features ou de usuários (linhas) a taxa de acerto pode mudar de algoritmo para algoritmo. É importante testar variações e ver qual a melhor se adequada ao problema."
   ]
  },
  {
   "cell_type": "code",
   "execution_count": null,
   "metadata": {},
   "outputs": [],
   "source": []
  }
 ],
 "metadata": {
  "kernelspec": {
   "display_name": "Python 3",
   "language": "python",
   "name": "python3"
  },
  "language_info": {
   "codemirror_mode": {
    "name": "ipython",
    "version": 3
   },
   "file_extension": ".py",
   "mimetype": "text/x-python",
   "name": "python",
   "nbconvert_exporter": "python",
   "pygments_lexer": "ipython3",
   "version": "3.8.5"
  }
 },
 "nbformat": 4,
 "nbformat_minor": 4
}
